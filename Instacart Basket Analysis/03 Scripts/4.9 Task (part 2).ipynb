{
 "cells": [
  {
   "cell_type": "code",
   "execution_count": 1,
   "id": "64044da4",
   "metadata": {},
   "outputs": [],
   "source": [
    "# Import libraries\n",
    "import pandas as pd\n",
    "import numpy as np\n",
    "import os\n",
    "import matplotlib.pyplot as plt\n",
    "import seaborn as sns\n",
    "import scipy"
   ]
  },
  {
   "cell_type": "code",
   "execution_count": 2,
   "id": "2494ff09",
   "metadata": {},
   "outputs": [],
   "source": [
    "# Define a path to project folder\n",
    "path = r\"D:\\Data Immersion - Careerfoundry\\Python Fundamentals for Data Analysts\\Instacart Basket Analysis\""
   ]
  },
  {
   "cell_type": "code",
   "execution_count": 3,
   "id": "9d8a7bfb",
   "metadata": {},
   "outputs": [],
   "source": [
    "# Import the merged data set\n",
    "ords_prods_custs_merge = pd.read_pickle(os.path.join(path,'02 Data','Prepared Data','orders_products_customers_merge.pkl'))"
   ]
  },
  {
   "cell_type": "code",
   "execution_count": null,
   "id": "0506b3ab",
   "metadata": {},
   "outputs": [],
   "source": [
    "# Drop the unnamed columns in the dataset\n",
    "ords_prods_custs_merge.drop(columns = ['Unnamed: 0_x'])"
   ]
  },
  {
   "cell_type": "code",
   "execution_count": null,
   "id": "29f09fcc",
   "metadata": {},
   "outputs": [],
   "source": [
    "ords_prods_custs_merge.drop(columns = ['Unnamed: 0_y'])"
   ]
  },
  {
   "cell_type": "code",
   "execution_count": 5,
   "id": "ca604869",
   "metadata": {},
   "outputs": [
    {
     "data": {
      "text/html": [
       "<div>\n",
       "<style scoped>\n",
       "    .dataframe tbody tr th:only-of-type {\n",
       "        vertical-align: middle;\n",
       "    }\n",
       "\n",
       "    .dataframe tbody tr th {\n",
       "        vertical-align: top;\n",
       "    }\n",
       "\n",
       "    .dataframe thead th {\n",
       "        text-align: right;\n",
       "    }\n",
       "</style>\n",
       "<table border=\"1\" class=\"dataframe\">\n",
       "  <thead>\n",
       "    <tr style=\"text-align: right;\">\n",
       "      <th></th>\n",
       "      <th>Unnamed: 0_x</th>\n",
       "      <th>product_id</th>\n",
       "      <th>product_name</th>\n",
       "      <th>aisle_id</th>\n",
       "      <th>department_id</th>\n",
       "      <th>prices</th>\n",
       "      <th>Unnamed: 0_y</th>\n",
       "      <th>order_id</th>\n",
       "      <th>user_id</th>\n",
       "      <th>order_number</th>\n",
       "      <th>...</th>\n",
       "      <th>busiest_period_of_day</th>\n",
       "      <th>first_name</th>\n",
       "      <th>last_name</th>\n",
       "      <th>gender</th>\n",
       "      <th>state</th>\n",
       "      <th>age</th>\n",
       "      <th>date_joined</th>\n",
       "      <th>number_of_dependants</th>\n",
       "      <th>fam_status</th>\n",
       "      <th>income</th>\n",
       "    </tr>\n",
       "  </thead>\n",
       "  <tbody>\n",
       "    <tr>\n",
       "      <th>0</th>\n",
       "      <td>0</td>\n",
       "      <td>1</td>\n",
       "      <td>Chocolate Sandwich Cookies</td>\n",
       "      <td>61</td>\n",
       "      <td>19</td>\n",
       "      <td>5.8</td>\n",
       "      <td>1987</td>\n",
       "      <td>3139998</td>\n",
       "      <td>138</td>\n",
       "      <td>28</td>\n",
       "      <td>...</td>\n",
       "      <td>Most orders</td>\n",
       "      <td>Charles</td>\n",
       "      <td>Cox</td>\n",
       "      <td>Male</td>\n",
       "      <td>Minnesota</td>\n",
       "      <td>81</td>\n",
       "      <td>8/1/2019</td>\n",
       "      <td>1</td>\n",
       "      <td>married</td>\n",
       "      <td>49620</td>\n",
       "    </tr>\n",
       "    <tr>\n",
       "      <th>1</th>\n",
       "      <td>0</td>\n",
       "      <td>1</td>\n",
       "      <td>Chocolate Sandwich Cookies</td>\n",
       "      <td>61</td>\n",
       "      <td>19</td>\n",
       "      <td>5.8</td>\n",
       "      <td>1989</td>\n",
       "      <td>1977647</td>\n",
       "      <td>138</td>\n",
       "      <td>30</td>\n",
       "      <td>...</td>\n",
       "      <td>Most orders</td>\n",
       "      <td>Charles</td>\n",
       "      <td>Cox</td>\n",
       "      <td>Male</td>\n",
       "      <td>Minnesota</td>\n",
       "      <td>81</td>\n",
       "      <td>8/1/2019</td>\n",
       "      <td>1</td>\n",
       "      <td>married</td>\n",
       "      <td>49620</td>\n",
       "    </tr>\n",
       "    <tr>\n",
       "      <th>2</th>\n",
       "      <td>907</td>\n",
       "      <td>907</td>\n",
       "      <td>Premium Sliced Bacon</td>\n",
       "      <td>106</td>\n",
       "      <td>12</td>\n",
       "      <td>20.0</td>\n",
       "      <td>1960</td>\n",
       "      <td>3160996</td>\n",
       "      <td>138</td>\n",
       "      <td>1</td>\n",
       "      <td>...</td>\n",
       "      <td>Most orders</td>\n",
       "      <td>Charles</td>\n",
       "      <td>Cox</td>\n",
       "      <td>Male</td>\n",
       "      <td>Minnesota</td>\n",
       "      <td>81</td>\n",
       "      <td>8/1/2019</td>\n",
       "      <td>1</td>\n",
       "      <td>married</td>\n",
       "      <td>49620</td>\n",
       "    </tr>\n",
       "    <tr>\n",
       "      <th>3</th>\n",
       "      <td>907</td>\n",
       "      <td>907</td>\n",
       "      <td>Premium Sliced Bacon</td>\n",
       "      <td>106</td>\n",
       "      <td>12</td>\n",
       "      <td>20.0</td>\n",
       "      <td>1969</td>\n",
       "      <td>2254091</td>\n",
       "      <td>138</td>\n",
       "      <td>10</td>\n",
       "      <td>...</td>\n",
       "      <td>Most orders</td>\n",
       "      <td>Charles</td>\n",
       "      <td>Cox</td>\n",
       "      <td>Male</td>\n",
       "      <td>Minnesota</td>\n",
       "      <td>81</td>\n",
       "      <td>8/1/2019</td>\n",
       "      <td>1</td>\n",
       "      <td>married</td>\n",
       "      <td>49620</td>\n",
       "    </tr>\n",
       "    <tr>\n",
       "      <th>4</th>\n",
       "      <td>1000</td>\n",
       "      <td>1000</td>\n",
       "      <td>Apricots</td>\n",
       "      <td>18</td>\n",
       "      <td>10</td>\n",
       "      <td>12.9</td>\n",
       "      <td>1968</td>\n",
       "      <td>505689</td>\n",
       "      <td>138</td>\n",
       "      <td>9</td>\n",
       "      <td>...</td>\n",
       "      <td>Most orders</td>\n",
       "      <td>Charles</td>\n",
       "      <td>Cox</td>\n",
       "      <td>Male</td>\n",
       "      <td>Minnesota</td>\n",
       "      <td>81</td>\n",
       "      <td>8/1/2019</td>\n",
       "      <td>1</td>\n",
       "      <td>married</td>\n",
       "      <td>49620</td>\n",
       "    </tr>\n",
       "  </tbody>\n",
       "</table>\n",
       "<p>5 rows × 29 columns</p>\n",
       "</div>"
      ],
      "text/plain": [
       "   Unnamed: 0_x  product_id                product_name  aisle_id  \\\n",
       "0             0           1  Chocolate Sandwich Cookies        61   \n",
       "1             0           1  Chocolate Sandwich Cookies        61   \n",
       "2           907         907        Premium Sliced Bacon       106   \n",
       "3           907         907        Premium Sliced Bacon       106   \n",
       "4          1000        1000                    Apricots        18   \n",
       "\n",
       "   department_id  prices  Unnamed: 0_y  order_id  user_id  order_number  ...  \\\n",
       "0             19     5.8          1987   3139998      138            28  ...   \n",
       "1             19     5.8          1989   1977647      138            30  ...   \n",
       "2             12    20.0          1960   3160996      138             1  ...   \n",
       "3             12    20.0          1969   2254091      138            10  ...   \n",
       "4             10    12.9          1968    505689      138             9  ...   \n",
       "\n",
       "   busiest_period_of_day  first_name  last_name  gender      state age  \\\n",
       "0            Most orders     Charles        Cox    Male  Minnesota  81   \n",
       "1            Most orders     Charles        Cox    Male  Minnesota  81   \n",
       "2            Most orders     Charles        Cox    Male  Minnesota  81   \n",
       "3            Most orders     Charles        Cox    Male  Minnesota  81   \n",
       "4            Most orders     Charles        Cox    Male  Minnesota  81   \n",
       "\n",
       "  date_joined number_of_dependants fam_status income  \n",
       "0    8/1/2019                    1    married  49620  \n",
       "1    8/1/2019                    1    married  49620  \n",
       "2    8/1/2019                    1    married  49620  \n",
       "3    8/1/2019                    1    married  49620  \n",
       "4    8/1/2019                    1    married  49620  \n",
       "\n",
       "[5 rows x 29 columns]"
      ]
     },
     "execution_count": 5,
     "metadata": {},
     "output_type": "execute_result"
    }
   ],
   "source": [
    "# Check the head of the dataframe\n",
    "ords_prods_custs_merge.head()"
   ]
  },
  {
   "cell_type": "code",
   "execution_count": 5,
   "id": "d9fa0a1a",
   "metadata": {},
   "outputs": [
    {
     "data": {
      "text/plain": [
       "<AxesSubplot:>"
      ]
     },
     "execution_count": 5,
     "metadata": {},
     "output_type": "execute_result"
    },
    {
     "data": {
      "image/png": "[encoded data removed]",
      "text/plain": [
       "<Figure size 432x288 with 1 Axes>"
      ]
     },
     "metadata": {
      "needs_background": "light"
     },
     "output_type": "display_data"
    }
   ],
   "source": [
    "ords_prods_custs_merge['department_id'].value_counts().sort_index().plot.bar()"
   ]
  },
  {
   "cell_type": "code",
   "execution_count": 6,
   "id": "d6202bd6",
   "metadata": {},
   "outputs": [
    {
     "name": "stdout",
     "output_type": "stream",
     "text": [
      "<class 'pandas.core.frame.DataFrame'>\n",
      "Int64Index: 32404859 entries, 0 to 32404858\n",
      "Data columns (total 29 columns):\n",
      " #   Column                  Dtype   \n",
      "---  ------                  -----   \n",
      " 0   Unnamed: 0_x            int64   \n",
      " 1   product_id              int64   \n",
      " 2   product_name            object  \n",
      " 3   aisle_id                int64   \n",
      " 4   department_id           int64   \n",
      " 5   prices                  float64 \n",
      " 6   Unnamed: 0_y            int64   \n",
      " 7   order_id                int64   \n",
      " 8   user_id                 int64   \n",
      " 9   order_number            int64   \n",
      " 10  orders_day_of_the_week  int64   \n",
      " 11  order_hour_of_day       int64   \n",
      " 12  days_since_prior_order  float64 \n",
      " 13  add_to_cart_order       int64   \n",
      " 14  reordered               int64   \n",
      " 15  _merge                  category\n",
      " 16  price_range_loc         object  \n",
      " 17  busiest_day             object  \n",
      " 18  busiest_days            object  \n",
      " 19  busiest_period_of_day   object  \n",
      " 20  first_name              object  \n",
      " 21  last_name               object  \n",
      " 22  gender                  object  \n",
      " 23  state                   object  \n",
      " 24  age                     int64   \n",
      " 25  date_joined             object  \n",
      " 26  number_of_dependants    int64   \n",
      " 27  fam_status              object  \n",
      " 28  income                  int64   \n",
      "dtypes: category(1), float64(2), int64(15), object(11)\n",
      "memory usage: 7.0+ GB\n"
     ]
    }
   ],
   "source": [
    "ords_prods_custs_merge.info()"
   ]
  },
  {
   "cell_type": "markdown",
   "id": "b94d5123",
   "metadata": {},
   "source": [
    "# Task"
   ]
  },
  {
   "cell_type": "markdown",
   "id": "04ca22de",
   "metadata": {},
   "source": [
    "### 1)"
   ]
  },
  {
   "cell_type": "markdown",
   "id": "1b457cda",
   "metadata": {},
   "source": [
    "### Bar Charts"
   ]
  },
  {
   "cell_type": "code",
   "execution_count": 22,
   "id": "2cbdc45d",
   "metadata": {},
   "outputs": [],
   "source": [
    "# Create dataframe that coutsn the values of the days of the week columns for the bar chart\n",
    "bar_2 = ords_prods_custs_merge['orders_day_of_the_week'].value_counts(dropna = False).sort_index()"
   ]
  },
  {
   "cell_type": "code",
   "execution_count": 30,
   "id": "608ef334",
   "metadata": {},
   "outputs": [
    {
     "data": {
      "text/plain": [
       "Text(0, 0.5, 'Order count')"
      ]
     },
     "execution_count": 30,
     "metadata": {},
     "output_type": "execute_result"
    },
    {
     "data": {
      "image/png": "[encoded data removed]",
      "text/plain": [
       "<Figure size 432x288 with 1 Axes>"
      ]
     },
     "metadata": {
      "needs_background": "light"
     },
     "output_type": "display_data"
    }
   ],
   "source": [
    "# Create bar chart with new dataframe and add title and labels ot the axes\n",
    "bar_2_labels = bar_2.plot(kind='bar')\n",
    "plt.title('Count of orders throughout the week')\n",
    "plt.xlabel('Day of the Week')\n",
    "plt.ylabel('Order count')"
   ]
  },
  {
   "cell_type": "code",
   "execution_count": 29,
   "id": "9a6f4aa0",
   "metadata": {},
   "outputs": [],
   "source": [
    "bar_2_labels.figure.savefig(os.path.join(path,'04 Analysis','Visualizations','ords_dow_bar.png'))"
   ]
  },
  {
   "cell_type": "code",
   "execution_count": null,
   "id": "714dd391",
   "metadata": {},
   "outputs": [],
   "source": []
  },
  {
   "cell_type": "code",
   "execution_count": 18,
   "id": "0c4fe415",
   "metadata": {},
   "outputs": [
    {
     "data": {
      "image/png": "[encoded data removed]",
      "text/plain": [
       "<Figure size 432x288 with 1 Axes>"
      ]
     },
     "metadata": {
      "needs_background": "light"
     },
     "output_type": "display_data"
    }
   ],
   "source": [
    "# Create bar chart of the orders throughout the week\n",
    "bar = ords_prods_custs_merge['orders_day_of_the_week'].value_counts(dropna = False).sort_index().plot.bar(x = 'orders', y ='counts')"
   ]
  },
  {
   "cell_type": "code",
   "execution_count": 35,
   "id": "191d45ad",
   "metadata": {},
   "outputs": [
    {
     "data": {
      "text/plain": [
       "0    6204182\n",
       "1    5660230\n",
       "6    4496490\n",
       "2    4213830\n",
       "5    4205791\n",
       "3    3840534\n",
       "4    3783802\n",
       "Name: orders_day_of_the_week, dtype: int64"
      ]
     },
     "execution_count": 35,
     "metadata": {},
     "output_type": "execute_result"
    }
   ],
   "source": [
    "# Count Values of 'order_day_of_the_week' column\n",
    "ords_prods_custs_merge['orders_day_of_the_week'].value_counts(dropna = False)"
   ]
  },
  {
   "cell_type": "code",
   "execution_count": 34,
   "id": "8afad18d",
   "metadata": {},
   "outputs": [
    {
     "data": {
      "text/plain": [
       "0    6204182\n",
       "1    5660230\n",
       "2    4213830\n",
       "3    3840534\n",
       "4    3783802\n",
       "5    4205791\n",
       "6    4496490\n",
       "Name: orders_day_of_the_week, dtype: int64"
      ]
     },
     "execution_count": 34,
     "metadata": {},
     "output_type": "execute_result"
    }
   ],
   "source": [
    "# Count the values of 'order_day_of_week' column but with a sort index\n",
    "ords_prods_custs_merge['orders_day_of_the_week'].value_counts(dropna = False).sort_index()"
   ]
  },
  {
   "cell_type": "code",
   "execution_count": null,
   "id": "c9a03f1a",
   "metadata": {},
   "outputs": [],
   "source": [
    "# Create bar chart of 'order_day_of_the_week' with colors"
   ]
  },
  {
   "cell_type": "code",
   "execution_count": 39,
   "id": "2957ae33",
   "metadata": {},
   "outputs": [
    {
     "data": {
      "text/plain": [
       "<AxesSubplot:>"
      ]
     },
     "execution_count": 39,
     "metadata": {},
     "output_type": "execute_result"
    },
    {
     "data": {
      "image/png": "[encoded data removed]",
      "text/plain": [
       "<Figure size 432x288 with 1 Axes>"
      ]
     },
     "metadata": {
      "needs_background": "light"
     },
     "output_type": "display_data"
    }
   ],
   "source": [
    "ords_prods_custs_merge['orders_day_of_the_week'].value_counts().sort_index().plot.bar(color = ['purple','red','pink','orange','yellow','green','blue'])"
   ]
  },
  {
   "cell_type": "markdown",
   "id": "887fb24a",
   "metadata": {},
   "source": [
    "### Exporting Charts"
   ]
  },
  {
   "cell_type": "code",
   "execution_count": 40,
   "id": "eb0a4caf",
   "metadata": {},
   "outputs": [
    {
     "data": {
      "image/png": "[encoded data removed]",
      "text/plain": [
       "<Figure size 432x288 with 1 Axes>"
      ]
     },
     "metadata": {
      "needs_background": "light"
     },
     "output_type": "display_data"
    }
   ],
   "source": [
    "ords_prods_custs_merge['orders_day_of_the_week'].value_counts().sort_index().plot.bar(color = ['purple','red','pink','orange','yellow','green','blue'])"
   ]
  },
  {
   "cell_type": "code",
   "execution_count": 19,
   "id": "a58066ff",
   "metadata": {},
   "outputs": [],
   "source": [
    "#Export bar chart\n",
    "bar.figure.savefig(os.path.join(path, '04 Analysis','Visualizations', 'bar_orders_dow.png'))"
   ]
  },
  {
   "cell_type": "markdown",
   "id": "87f9e442",
   "metadata": {},
   "source": [
    "### 3) Histograms"
   ]
  },
  {
   "cell_type": "code",
   "execution_count": 43,
   "id": "1d46fd34",
   "metadata": {},
   "outputs": [
    {
     "data": {
      "text/plain": [
       "<AxesSubplot:ylabel='Frequency'>"
      ]
     },
     "execution_count": 43,
     "metadata": {},
     "output_type": "execute_result"
    },
    {
     "data": {
      "image/png": "[encoded data removed]",
      "text/plain": [
       "<Figure size 432x288 with 1 Axes>"
      ]
     },
     "metadata": {
      "needs_background": "light"
     },
     "output_type": "display_data"
    }
   ],
   "source": [
    "# Create histogram of prices column\n",
    "ords_prods_custs_merge['prices'].plot.hist(bins = 25)"
   ]
  },
  {
   "cell_type": "code",
   "execution_count": 45,
   "id": "c5ec4883",
   "metadata": {},
   "outputs": [
    {
     "data": {
      "text/plain": [
       "count    3.240486e+07\n",
       "mean     1.198023e+01\n",
       "std      4.956554e+02\n",
       "min      1.000000e+00\n",
       "25%      4.200000e+00\n",
       "50%      7.400000e+00\n",
       "75%      1.130000e+01\n",
       "max      9.999900e+04\n",
       "Name: prices, dtype: float64"
      ]
     },
     "execution_count": 45,
     "metadata": {},
     "output_type": "execute_result"
    }
   ],
   "source": [
    "ords_prods_custs_merge['prices'].describe()"
   ]
  },
  {
   "cell_type": "code",
   "execution_count": 47,
   "id": "76caf2b3",
   "metadata": {},
   "outputs": [
    {
     "data": {
      "text/plain": [
       "11.980225638695279"
      ]
     },
     "execution_count": 47,
     "metadata": {},
     "output_type": "execute_result"
    }
   ],
   "source": [
    "ords_prods_custs_merge['prices'].mean()"
   ]
  },
  {
   "cell_type": "code",
   "execution_count": 48,
   "id": "8615bb4a",
   "metadata": {},
   "outputs": [
    {
     "data": {
      "text/plain": [
       "1.0"
      ]
     },
     "execution_count": 48,
     "metadata": {},
     "output_type": "execute_result"
    }
   ],
   "source": [
    "ords_prods_custs_merge['prices'].min()"
   ]
  },
  {
   "cell_type": "code",
   "execution_count": 49,
   "id": "1839cc92",
   "metadata": {},
   "outputs": [
    {
     "data": {
      "text/plain": [
       "99999.0"
      ]
     },
     "execution_count": 49,
     "metadata": {},
     "output_type": "execute_result"
    }
   ],
   "source": [
    "ords_prods_custs_merge['prices'].max()"
   ]
  },
  {
   "cell_type": "code",
   "execution_count": 52,
   "id": "7feef219",
   "metadata": {},
   "outputs": [
    {
     "data": {
      "text/plain": [
       "<AxesSubplot:xlabel='prices', ylabel='prices'>"
      ]
     },
     "execution_count": 52,
     "metadata": {},
     "output_type": "execute_result"
    },
    {
     "data": {
      "image/png": "[encoded data removed]",
      "text/plain": [
       "<Figure size 432x288 with 1 Axes>"
      ]
     },
     "metadata": {
      "needs_background": "light"
     },
     "output_type": "display_data"
    }
   ],
   "source": [
    "# Create scatterplot of prices column\n",
    "sns.scatterplot(x = 'prices', y = 'prices',data = ords_prods_custs_merge)"
   ]
  },
  {
   "cell_type": "code",
   "execution_count": 57,
   "id": "5173f8f8",
   "metadata": {},
   "outputs": [
    {
     "data": {
      "text/html": [
       "<div>\n",
       "<style scoped>\n",
       "    .dataframe tbody tr th:only-of-type {\n",
       "        vertical-align: middle;\n",
       "    }\n",
       "\n",
       "    .dataframe tbody tr th {\n",
       "        vertical-align: top;\n",
       "    }\n",
       "\n",
       "    .dataframe thead th {\n",
       "        text-align: right;\n",
       "    }\n",
       "</style>\n",
       "<table border=\"1\" class=\"dataframe\">\n",
       "  <thead>\n",
       "    <tr style=\"text-align: right;\">\n",
       "      <th></th>\n",
       "      <th>Unnamed: 0_x</th>\n",
       "      <th>product_id</th>\n",
       "      <th>product_name</th>\n",
       "      <th>aisle_id</th>\n",
       "      <th>department_id</th>\n",
       "      <th>prices</th>\n",
       "      <th>Unnamed: 0_y</th>\n",
       "      <th>order_id</th>\n",
       "      <th>user_id</th>\n",
       "      <th>order_number</th>\n",
       "      <th>...</th>\n",
       "      <th>last_name</th>\n",
       "      <th>gender</th>\n",
       "      <th>state</th>\n",
       "      <th>age</th>\n",
       "      <th>date_joined</th>\n",
       "      <th>number_of_dependants</th>\n",
       "      <th>fam_status</th>\n",
       "      <th>income</th>\n",
       "      <th>max_order</th>\n",
       "      <th>loyalty_flag</th>\n",
       "    </tr>\n",
       "  </thead>\n",
       "  <tbody>\n",
       "    <tr>\n",
       "      <th>23024</th>\n",
       "      <td>33666</td>\n",
       "      <td>33664</td>\n",
       "      <td>2 % Reduced Fat  Milk</td>\n",
       "      <td>84</td>\n",
       "      <td>16</td>\n",
       "      <td>99999.0</td>\n",
       "      <td>720250</td>\n",
       "      <td>1489110</td>\n",
       "      <td>43360</td>\n",
       "      <td>3</td>\n",
       "      <td>...</td>\n",
       "      <td>Baker</td>\n",
       "      <td>Female</td>\n",
       "      <td>Florida</td>\n",
       "      <td>67</td>\n",
       "      <td>7/16/2017</td>\n",
       "      <td>3</td>\n",
       "      <td>married</td>\n",
       "      <td>149199</td>\n",
       "      <td>18</td>\n",
       "      <td>Regular customer</td>\n",
       "    </tr>\n",
       "    <tr>\n",
       "      <th>23025</th>\n",
       "      <td>33666</td>\n",
       "      <td>33664</td>\n",
       "      <td>2 % Reduced Fat  Milk</td>\n",
       "      <td>84</td>\n",
       "      <td>16</td>\n",
       "      <td>99999.0</td>\n",
       "      <td>720251</td>\n",
       "      <td>2322035</td>\n",
       "      <td>43360</td>\n",
       "      <td>4</td>\n",
       "      <td>...</td>\n",
       "      <td>Baker</td>\n",
       "      <td>Female</td>\n",
       "      <td>Florida</td>\n",
       "      <td>67</td>\n",
       "      <td>7/16/2017</td>\n",
       "      <td>3</td>\n",
       "      <td>married</td>\n",
       "      <td>149199</td>\n",
       "      <td>18</td>\n",
       "      <td>Regular customer</td>\n",
       "    </tr>\n",
       "    <tr>\n",
       "      <th>23026</th>\n",
       "      <td>33666</td>\n",
       "      <td>33664</td>\n",
       "      <td>2 % Reduced Fat  Milk</td>\n",
       "      <td>84</td>\n",
       "      <td>16</td>\n",
       "      <td>99999.0</td>\n",
       "      <td>720252</td>\n",
       "      <td>420339</td>\n",
       "      <td>43360</td>\n",
       "      <td>5</td>\n",
       "      <td>...</td>\n",
       "      <td>Baker</td>\n",
       "      <td>Female</td>\n",
       "      <td>Florida</td>\n",
       "      <td>67</td>\n",
       "      <td>7/16/2017</td>\n",
       "      <td>3</td>\n",
       "      <td>married</td>\n",
       "      <td>149199</td>\n",
       "      <td>18</td>\n",
       "      <td>Regular customer</td>\n",
       "    </tr>\n",
       "    <tr>\n",
       "      <th>23027</th>\n",
       "      <td>33666</td>\n",
       "      <td>33664</td>\n",
       "      <td>2 % Reduced Fat  Milk</td>\n",
       "      <td>84</td>\n",
       "      <td>16</td>\n",
       "      <td>99999.0</td>\n",
       "      <td>720254</td>\n",
       "      <td>2912515</td>\n",
       "      <td>43360</td>\n",
       "      <td>7</td>\n",
       "      <td>...</td>\n",
       "      <td>Baker</td>\n",
       "      <td>Female</td>\n",
       "      <td>Florida</td>\n",
       "      <td>67</td>\n",
       "      <td>7/16/2017</td>\n",
       "      <td>3</td>\n",
       "      <td>married</td>\n",
       "      <td>149199</td>\n",
       "      <td>18</td>\n",
       "      <td>Regular customer</td>\n",
       "    </tr>\n",
       "    <tr>\n",
       "      <th>28712</th>\n",
       "      <td>21554</td>\n",
       "      <td>21553</td>\n",
       "      <td>Lowfat 2% Milkfat Cottage Cheese</td>\n",
       "      <td>108</td>\n",
       "      <td>16</td>\n",
       "      <td>14900.0</td>\n",
       "      <td>901306</td>\n",
       "      <td>518829</td>\n",
       "      <td>54136</td>\n",
       "      <td>22</td>\n",
       "      <td>...</td>\n",
       "      <td>Parsons</td>\n",
       "      <td>Male</td>\n",
       "      <td>New Jersey</td>\n",
       "      <td>40</td>\n",
       "      <td>1/28/2020</td>\n",
       "      <td>0</td>\n",
       "      <td>single</td>\n",
       "      <td>160524</td>\n",
       "      <td>23</td>\n",
       "      <td>Regular customer</td>\n",
       "    </tr>\n",
       "    <tr>\n",
       "      <th>...</th>\n",
       "      <td>...</td>\n",
       "      <td>...</td>\n",
       "      <td>...</td>\n",
       "      <td>...</td>\n",
       "      <td>...</td>\n",
       "      <td>...</td>\n",
       "      <td>...</td>\n",
       "      <td>...</td>\n",
       "      <td>...</td>\n",
       "      <td>...</td>\n",
       "      <td>...</td>\n",
       "      <td>...</td>\n",
       "      <td>...</td>\n",
       "      <td>...</td>\n",
       "      <td>...</td>\n",
       "      <td>...</td>\n",
       "      <td>...</td>\n",
       "      <td>...</td>\n",
       "      <td>...</td>\n",
       "      <td>...</td>\n",
       "      <td>...</td>\n",
       "    </tr>\n",
       "    <tr>\n",
       "      <th>32383871</th>\n",
       "      <td>21554</td>\n",
       "      <td>21553</td>\n",
       "      <td>Lowfat 2% Milkfat Cottage Cheese</td>\n",
       "      <td>108</td>\n",
       "      <td>16</td>\n",
       "      <td>14900.0</td>\n",
       "      <td>2273587</td>\n",
       "      <td>3288900</td>\n",
       "      <td>136909</td>\n",
       "      <td>1</td>\n",
       "      <td>...</td>\n",
       "      <td>Dillon</td>\n",
       "      <td>Female</td>\n",
       "      <td>New Jersey</td>\n",
       "      <td>30</td>\n",
       "      <td>5/14/2017</td>\n",
       "      <td>2</td>\n",
       "      <td>married</td>\n",
       "      <td>161606</td>\n",
       "      <td>27</td>\n",
       "      <td>Regular customer</td>\n",
       "    </tr>\n",
       "    <tr>\n",
       "      <th>32383872</th>\n",
       "      <td>21554</td>\n",
       "      <td>21553</td>\n",
       "      <td>Lowfat 2% Milkfat Cottage Cheese</td>\n",
       "      <td>108</td>\n",
       "      <td>16</td>\n",
       "      <td>14900.0</td>\n",
       "      <td>2273590</td>\n",
       "      <td>285306</td>\n",
       "      <td>136909</td>\n",
       "      <td>4</td>\n",
       "      <td>...</td>\n",
       "      <td>Dillon</td>\n",
       "      <td>Female</td>\n",
       "      <td>New Jersey</td>\n",
       "      <td>30</td>\n",
       "      <td>5/14/2017</td>\n",
       "      <td>2</td>\n",
       "      <td>married</td>\n",
       "      <td>161606</td>\n",
       "      <td>27</td>\n",
       "      <td>Regular customer</td>\n",
       "    </tr>\n",
       "    <tr>\n",
       "      <th>32383873</th>\n",
       "      <td>21554</td>\n",
       "      <td>21553</td>\n",
       "      <td>Lowfat 2% Milkfat Cottage Cheese</td>\n",
       "      <td>108</td>\n",
       "      <td>16</td>\n",
       "      <td>14900.0</td>\n",
       "      <td>2273599</td>\n",
       "      <td>2744314</td>\n",
       "      <td>136909</td>\n",
       "      <td>13</td>\n",
       "      <td>...</td>\n",
       "      <td>Dillon</td>\n",
       "      <td>Female</td>\n",
       "      <td>New Jersey</td>\n",
       "      <td>30</td>\n",
       "      <td>5/14/2017</td>\n",
       "      <td>2</td>\n",
       "      <td>married</td>\n",
       "      <td>161606</td>\n",
       "      <td>27</td>\n",
       "      <td>Regular customer</td>\n",
       "    </tr>\n",
       "    <tr>\n",
       "      <th>32396750</th>\n",
       "      <td>21554</td>\n",
       "      <td>21553</td>\n",
       "      <td>Lowfat 2% Milkfat Cottage Cheese</td>\n",
       "      <td>108</td>\n",
       "      <td>16</td>\n",
       "      <td>14900.0</td>\n",
       "      <td>43906</td>\n",
       "      <td>2716179</td>\n",
       "      <td>2700</td>\n",
       "      <td>7</td>\n",
       "      <td>...</td>\n",
       "      <td>Crosby</td>\n",
       "      <td>Male</td>\n",
       "      <td>Washington</td>\n",
       "      <td>67</td>\n",
       "      <td>4/19/2019</td>\n",
       "      <td>0</td>\n",
       "      <td>divorced/widowed</td>\n",
       "      <td>225873</td>\n",
       "      <td>14</td>\n",
       "      <td>Regular customer</td>\n",
       "    </tr>\n",
       "    <tr>\n",
       "      <th>32396768</th>\n",
       "      <td>21554</td>\n",
       "      <td>21553</td>\n",
       "      <td>Lowfat 2% Milkfat Cottage Cheese</td>\n",
       "      <td>108</td>\n",
       "      <td>16</td>\n",
       "      <td>14900.0</td>\n",
       "      <td>2630684</td>\n",
       "      <td>1600098</td>\n",
       "      <td>158398</td>\n",
       "      <td>4</td>\n",
       "      <td>...</td>\n",
       "      <td>Morrow</td>\n",
       "      <td>Female</td>\n",
       "      <td>Tennessee</td>\n",
       "      <td>42</td>\n",
       "      <td>8/23/2018</td>\n",
       "      <td>3</td>\n",
       "      <td>married</td>\n",
       "      <td>244936</td>\n",
       "      <td>4</td>\n",
       "      <td>New customer</td>\n",
       "    </tr>\n",
       "  </tbody>\n",
       "</table>\n",
       "<p>5127 rows × 31 columns</p>\n",
       "</div>"
      ],
      "text/plain": [
       "          Unnamed: 0_x  product_id                      product_name  \\\n",
       "23024            33666       33664             2 % Reduced Fat  Milk   \n",
       "23025            33666       33664             2 % Reduced Fat  Milk   \n",
       "23026            33666       33664             2 % Reduced Fat  Milk   \n",
       "23027            33666       33664             2 % Reduced Fat  Milk   \n",
       "28712            21554       21553  Lowfat 2% Milkfat Cottage Cheese   \n",
       "...                ...         ...                               ...   \n",
       "32383871         21554       21553  Lowfat 2% Milkfat Cottage Cheese   \n",
       "32383872         21554       21553  Lowfat 2% Milkfat Cottage Cheese   \n",
       "32383873         21554       21553  Lowfat 2% Milkfat Cottage Cheese   \n",
       "32396750         21554       21553  Lowfat 2% Milkfat Cottage Cheese   \n",
       "32396768         21554       21553  Lowfat 2% Milkfat Cottage Cheese   \n",
       "\n",
       "          aisle_id  department_id   prices  Unnamed: 0_y  order_id  user_id  \\\n",
       "23024           84             16  99999.0        720250   1489110    43360   \n",
       "23025           84             16  99999.0        720251   2322035    43360   \n",
       "23026           84             16  99999.0        720252    420339    43360   \n",
       "23027           84             16  99999.0        720254   2912515    43360   \n",
       "28712          108             16  14900.0        901306    518829    54136   \n",
       "...            ...            ...      ...           ...       ...      ...   \n",
       "32383871       108             16  14900.0       2273587   3288900   136909   \n",
       "32383872       108             16  14900.0       2273590    285306   136909   \n",
       "32383873       108             16  14900.0       2273599   2744314   136909   \n",
       "32396750       108             16  14900.0         43906   2716179     2700   \n",
       "32396768       108             16  14900.0       2630684   1600098   158398   \n",
       "\n",
       "          order_number  ...  last_name  gender       state  age  date_joined  \\\n",
       "23024                3  ...      Baker  Female     Florida   67    7/16/2017   \n",
       "23025                4  ...      Baker  Female     Florida   67    7/16/2017   \n",
       "23026                5  ...      Baker  Female     Florida   67    7/16/2017   \n",
       "23027                7  ...      Baker  Female     Florida   67    7/16/2017   \n",
       "28712               22  ...    Parsons    Male  New Jersey   40    1/28/2020   \n",
       "...                ...  ...        ...     ...         ...  ...          ...   \n",
       "32383871             1  ...     Dillon  Female  New Jersey   30    5/14/2017   \n",
       "32383872             4  ...     Dillon  Female  New Jersey   30    5/14/2017   \n",
       "32383873            13  ...     Dillon  Female  New Jersey   30    5/14/2017   \n",
       "32396750             7  ...     Crosby    Male  Washington   67    4/19/2019   \n",
       "32396768             4  ...     Morrow  Female   Tennessee   42    8/23/2018   \n",
       "\n",
       "         number_of_dependants        fam_status  income max_order  \\\n",
       "23024                       3           married  149199        18   \n",
       "23025                       3           married  149199        18   \n",
       "23026                       3           married  149199        18   \n",
       "23027                       3           married  149199        18   \n",
       "28712                       0            single  160524        23   \n",
       "...                       ...               ...     ...       ...   \n",
       "32383871                    2           married  161606        27   \n",
       "32383872                    2           married  161606        27   \n",
       "32383873                    2           married  161606        27   \n",
       "32396750                    0  divorced/widowed  225873        14   \n",
       "32396768                    3           married  244936         4   \n",
       "\n",
       "              loyalty_flag  \n",
       "23024     Regular customer  \n",
       "23025     Regular customer  \n",
       "23026     Regular customer  \n",
       "23027     Regular customer  \n",
       "28712     Regular customer  \n",
       "...                    ...  \n",
       "32383871  Regular customer  \n",
       "32383872  Regular customer  \n",
       "32383873  Regular customer  \n",
       "32396750  Regular customer  \n",
       "32396768      New customer  \n",
       "\n",
       "[5127 rows x 31 columns]"
      ]
     },
     "execution_count": 57,
     "metadata": {},
     "output_type": "execute_result"
    }
   ],
   "source": [
    "# Check to see number of orders with price over $100\n",
    "ords_prods_custs_merge.loc[ords_prods_custs_merge['prices'] > 100]"
   ]
  },
  {
   "cell_type": "code",
   "execution_count": 7,
   "id": "e45fcd7a",
   "metadata": {},
   "outputs": [],
   "source": [
    "ords_prods_custs_merge.loc[ords_prods_custs_merge['prices'] > 100] = np.nan"
   ]
  },
  {
   "cell_type": "code",
   "execution_count": 60,
   "id": "3f36079d",
   "metadata": {},
   "outputs": [
    {
     "data": {
      "text/plain": [
       "25.0"
      ]
     },
     "execution_count": 60,
     "metadata": {},
     "output_type": "execute_result"
    }
   ],
   "source": [
    "ords_prods_custs_merge['prices'].max()"
   ]
  },
  {
   "cell_type": "code",
   "execution_count": 8,
   "id": "3937a897",
   "metadata": {},
   "outputs": [
    {
     "data": {
      "image/png": "[encoded data removed]",
      "text/plain": [
       "<Figure size 432x288 with 1 Axes>"
      ]
     },
     "metadata": {
      "needs_background": "light"
     },
     "output_type": "display_data"
    }
   ],
   "source": [
    "# Create histogram of price column\n",
    "hist_1 = ords_prods_custs_merge['prices'].plot.hist(bins = 25)"
   ]
  },
  {
   "cell_type": "code",
   "execution_count": 11,
   "id": "b39e251d",
   "metadata": {},
   "outputs": [
    {
     "data": {
      "image/png": "[encoded data removed]",
      "text/plain": [
       "<Figure size 432x288 with 1 Axes>"
      ]
     },
     "metadata": {
      "needs_background": "light"
     },
     "output_type": "display_data"
    }
   ],
   "source": [
    "hist_2 = ords_prods_custs_merge['prices'].plot.hist(bins = 70)\n",
    "plt.title('Order prices histogram')\n",
    "plt.xlabel('Pirc')"
   ]
  },
  {
   "cell_type": "code",
   "execution_count": 63,
   "id": "99bdbc11",
   "metadata": {},
   "outputs": [],
   "source": [
    "hist_2.figure.savefig(os.path.join(path, '04 Analysis','Visualizations', 'hist_prices.png'))"
   ]
  },
  {
   "cell_type": "markdown",
   "id": "e449bbac",
   "metadata": {},
   "source": [
    "### Sampling Data"
   ]
  },
  {
   "cell_type": "code",
   "execution_count": 4,
   "id": "ff7a2f10",
   "metadata": {},
   "outputs": [],
   "source": [
    "# Set seed for random number generator\n",
    "np.random.seed(4)\n",
    "dev = np.random.rand(len(ords_prods_custs_merge)) <= 0.7"
   ]
  },
  {
   "cell_type": "code",
   "execution_count": 5,
   "id": "1e3ffa1e",
   "metadata": {},
   "outputs": [],
   "source": [
    "# Store 70% of the sample in the dataframe big\n",
    "big = ords_prods_custs_merge[dev]"
   ]
  },
  {
   "cell_type": "code",
   "execution_count": 6,
   "id": "c209b84e",
   "metadata": {},
   "outputs": [],
   "source": [
    "# Store 30% of the smaple in the dataframe small\n",
    "small = ords_prods_custs_merge[~dev]"
   ]
  },
  {
   "cell_type": "code",
   "execution_count": 7,
   "id": "3479670e",
   "metadata": {},
   "outputs": [
    {
     "data": {
      "text/plain": [
       "32404859"
      ]
     },
     "execution_count": 7,
     "metadata": {},
     "output_type": "execute_result"
    }
   ],
   "source": [
    "len(ords_prods_custs_merge)"
   ]
  },
  {
   "cell_type": "code",
   "execution_count": 8,
   "id": "50f87df1",
   "metadata": {},
   "outputs": [
    {
     "data": {
      "text/plain": [
       "32404859"
      ]
     },
     "execution_count": 8,
     "metadata": {},
     "output_type": "execute_result"
    }
   ],
   "source": [
    "len(big) + len(small)"
   ]
  },
  {
   "cell_type": "code",
   "execution_count": 10,
   "id": "1ee10af7",
   "metadata": {},
   "outputs": [],
   "source": [
    "df_2 = ords_prods_custs_merge[['orders_day_of_the_week','prices']]"
   ]
  },
  {
   "cell_type": "code",
   "execution_count": 11,
   "id": "3c45f999",
   "metadata": {},
   "outputs": [
    {
     "data": {
      "image/png": "[encoded data removed]",
      "text/plain": [
       "<Figure size 432x288 with 1 Axes>"
      ]
     },
     "metadata": {
      "needs_background": "light"
     },
     "output_type": "display_data"
    }
   ],
   "source": [
    "# Create line chart of order_day_of_the_week and prices columns using our sample\n",
    "line = sns.lineplot(data = df_2, x = 'orders_day_of_the_week',y = 'prices')"
   ]
  },
  {
   "cell_type": "code",
   "execution_count": 16,
   "id": "8d6b4e9c",
   "metadata": {},
   "outputs": [],
   "source": [
    "# Export line chart\n",
    "line.figure.savefig(os.path.join(path, '04 Analysis','Visualizations', 'line_orderdow_prices.png'))"
   ]
  },
  {
   "cell_type": "code",
   "execution_count": 24,
   "id": "e91ed6ee",
   "metadata": {},
   "outputs": [],
   "source": [
    "# Create loyalty flag cause it must have been corrputed in exporting\n",
    "ords_prods_custs_merge['max_order'] = ords_prods_custs_merge.groupby(['user_id'])['order_number'].transform(np.max)"
   ]
  },
  {
   "cell_type": "code",
   "execution_count": 25,
   "id": "b0a15fcd",
   "metadata": {},
   "outputs": [],
   "source": [
    "ords_prods_custs_merge.loc[ords_prods_custs_merge['max_order'] > 40, 'loyalty_flag'] = 'Loyal customer'\n",
    "ords_prods_custs_merge.loc[(ords_prods_custs_merge['max_order'] <= 40) & (ords_prods_custs_merge['max_order'] > 10), 'loyalty_flag'] = 'Regular customer'\n",
    "ords_prods_custs_merge.loc[ords_prods_custs_merge['max_order'] <= 10, 'loyalty_flag'] = 'New customer'"
   ]
  },
  {
   "cell_type": "code",
   "execution_count": 26,
   "id": "818ccd0f",
   "metadata": {},
   "outputs": [
    {
     "data": {
      "text/html": [
       "<div>\n",
       "<style scoped>\n",
       "    .dataframe tbody tr th:only-of-type {\n",
       "        vertical-align: middle;\n",
       "    }\n",
       "\n",
       "    .dataframe tbody tr th {\n",
       "        vertical-align: top;\n",
       "    }\n",
       "\n",
       "    .dataframe thead th {\n",
       "        text-align: right;\n",
       "    }\n",
       "</style>\n",
       "<table border=\"1\" class=\"dataframe\">\n",
       "  <thead>\n",
       "    <tr style=\"text-align: right;\">\n",
       "      <th></th>\n",
       "      <th>Unnamed: 0_x</th>\n",
       "      <th>product_id</th>\n",
       "      <th>product_name</th>\n",
       "      <th>aisle_id</th>\n",
       "      <th>department_id</th>\n",
       "      <th>prices</th>\n",
       "      <th>Unnamed: 0_y</th>\n",
       "      <th>order_id</th>\n",
       "      <th>user_id</th>\n",
       "      <th>order_number</th>\n",
       "      <th>...</th>\n",
       "      <th>last_name</th>\n",
       "      <th>gender</th>\n",
       "      <th>state</th>\n",
       "      <th>age</th>\n",
       "      <th>date_joined</th>\n",
       "      <th>number_of_dependants</th>\n",
       "      <th>fam_status</th>\n",
       "      <th>income</th>\n",
       "      <th>max_order</th>\n",
       "      <th>loyalty_flag</th>\n",
       "    </tr>\n",
       "  </thead>\n",
       "  <tbody>\n",
       "    <tr>\n",
       "      <th>0</th>\n",
       "      <td>0</td>\n",
       "      <td>1</td>\n",
       "      <td>Chocolate Sandwich Cookies</td>\n",
       "      <td>61</td>\n",
       "      <td>19</td>\n",
       "      <td>5.8</td>\n",
       "      <td>1987</td>\n",
       "      <td>3139998</td>\n",
       "      <td>138</td>\n",
       "      <td>28</td>\n",
       "      <td>...</td>\n",
       "      <td>Cox</td>\n",
       "      <td>Male</td>\n",
       "      <td>Minnesota</td>\n",
       "      <td>81</td>\n",
       "      <td>8/1/2019</td>\n",
       "      <td>1</td>\n",
       "      <td>married</td>\n",
       "      <td>49620</td>\n",
       "      <td>32</td>\n",
       "      <td>Regular customer</td>\n",
       "    </tr>\n",
       "    <tr>\n",
       "      <th>1</th>\n",
       "      <td>0</td>\n",
       "      <td>1</td>\n",
       "      <td>Chocolate Sandwich Cookies</td>\n",
       "      <td>61</td>\n",
       "      <td>19</td>\n",
       "      <td>5.8</td>\n",
       "      <td>1989</td>\n",
       "      <td>1977647</td>\n",
       "      <td>138</td>\n",
       "      <td>30</td>\n",
       "      <td>...</td>\n",
       "      <td>Cox</td>\n",
       "      <td>Male</td>\n",
       "      <td>Minnesota</td>\n",
       "      <td>81</td>\n",
       "      <td>8/1/2019</td>\n",
       "      <td>1</td>\n",
       "      <td>married</td>\n",
       "      <td>49620</td>\n",
       "      <td>32</td>\n",
       "      <td>Regular customer</td>\n",
       "    </tr>\n",
       "    <tr>\n",
       "      <th>2</th>\n",
       "      <td>907</td>\n",
       "      <td>907</td>\n",
       "      <td>Premium Sliced Bacon</td>\n",
       "      <td>106</td>\n",
       "      <td>12</td>\n",
       "      <td>20.0</td>\n",
       "      <td>1960</td>\n",
       "      <td>3160996</td>\n",
       "      <td>138</td>\n",
       "      <td>1</td>\n",
       "      <td>...</td>\n",
       "      <td>Cox</td>\n",
       "      <td>Male</td>\n",
       "      <td>Minnesota</td>\n",
       "      <td>81</td>\n",
       "      <td>8/1/2019</td>\n",
       "      <td>1</td>\n",
       "      <td>married</td>\n",
       "      <td>49620</td>\n",
       "      <td>32</td>\n",
       "      <td>Regular customer</td>\n",
       "    </tr>\n",
       "    <tr>\n",
       "      <th>3</th>\n",
       "      <td>907</td>\n",
       "      <td>907</td>\n",
       "      <td>Premium Sliced Bacon</td>\n",
       "      <td>106</td>\n",
       "      <td>12</td>\n",
       "      <td>20.0</td>\n",
       "      <td>1969</td>\n",
       "      <td>2254091</td>\n",
       "      <td>138</td>\n",
       "      <td>10</td>\n",
       "      <td>...</td>\n",
       "      <td>Cox</td>\n",
       "      <td>Male</td>\n",
       "      <td>Minnesota</td>\n",
       "      <td>81</td>\n",
       "      <td>8/1/2019</td>\n",
       "      <td>1</td>\n",
       "      <td>married</td>\n",
       "      <td>49620</td>\n",
       "      <td>32</td>\n",
       "      <td>Regular customer</td>\n",
       "    </tr>\n",
       "    <tr>\n",
       "      <th>4</th>\n",
       "      <td>1000</td>\n",
       "      <td>1000</td>\n",
       "      <td>Apricots</td>\n",
       "      <td>18</td>\n",
       "      <td>10</td>\n",
       "      <td>12.9</td>\n",
       "      <td>1968</td>\n",
       "      <td>505689</td>\n",
       "      <td>138</td>\n",
       "      <td>9</td>\n",
       "      <td>...</td>\n",
       "      <td>Cox</td>\n",
       "      <td>Male</td>\n",
       "      <td>Minnesota</td>\n",
       "      <td>81</td>\n",
       "      <td>8/1/2019</td>\n",
       "      <td>1</td>\n",
       "      <td>married</td>\n",
       "      <td>49620</td>\n",
       "      <td>32</td>\n",
       "      <td>Regular customer</td>\n",
       "    </tr>\n",
       "  </tbody>\n",
       "</table>\n",
       "<p>5 rows × 31 columns</p>\n",
       "</div>"
      ],
      "text/plain": [
       "   Unnamed: 0_x  product_id                product_name  aisle_id  \\\n",
       "0             0           1  Chocolate Sandwich Cookies        61   \n",
       "1             0           1  Chocolate Sandwich Cookies        61   \n",
       "2           907         907        Premium Sliced Bacon       106   \n",
       "3           907         907        Premium Sliced Bacon       106   \n",
       "4          1000        1000                    Apricots        18   \n",
       "\n",
       "   department_id  prices  Unnamed: 0_y  order_id  user_id  order_number  ...  \\\n",
       "0             19     5.8          1987   3139998      138            28  ...   \n",
       "1             19     5.8          1989   1977647      138            30  ...   \n",
       "2             12    20.0          1960   3160996      138             1  ...   \n",
       "3             12    20.0          1969   2254091      138            10  ...   \n",
       "4             10    12.9          1968    505689      138             9  ...   \n",
       "\n",
       "   last_name  gender      state  age  date_joined number_of_dependants  \\\n",
       "0        Cox    Male  Minnesota   81     8/1/2019                    1   \n",
       "1        Cox    Male  Minnesota   81     8/1/2019                    1   \n",
       "2        Cox    Male  Minnesota   81     8/1/2019                    1   \n",
       "3        Cox    Male  Minnesota   81     8/1/2019                    1   \n",
       "4        Cox    Male  Minnesota   81     8/1/2019                    1   \n",
       "\n",
       "  fam_status income max_order      loyalty_flag  \n",
       "0    married  49620        32  Regular customer  \n",
       "1    married  49620        32  Regular customer  \n",
       "2    married  49620        32  Regular customer  \n",
       "3    married  49620        32  Regular customer  \n",
       "4    married  49620        32  Regular customer  \n",
       "\n",
       "[5 rows x 31 columns]"
      ]
     },
     "execution_count": 26,
     "metadata": {},
     "output_type": "execute_result"
    }
   ],
   "source": [
    "ords_prods_custs_merge.head()"
   ]
  },
  {
   "cell_type": "markdown",
   "id": "011107a1",
   "metadata": {},
   "source": [
    "### 3)"
   ]
  },
  {
   "cell_type": "code",
   "execution_count": 21,
   "id": "64cef8e3",
   "metadata": {},
   "outputs": [
    {
     "data": {
      "image/png": "[encoded data removed]",
      "text/plain": [
       "<Figure size 432x288 with 1 Axes>"
      ]
     },
     "metadata": {
      "needs_background": "light"
     },
     "output_type": "display_data"
    }
   ],
   "source": [
    "hist_ord_hod = ords_prods_custs_merge['order_hour_of_day'].plot.hist(bins = 55)"
   ]
  },
  {
   "cell_type": "code",
   "execution_count": 23,
   "id": "1b7e1184",
   "metadata": {},
   "outputs": [],
   "source": [
    "# Export histogram\n",
    "hist_ord_hod.figure.savefig(os.path.join(path, '04 Analysis','Visualizations', 'hist_ord_hod.png'))"
   ]
  },
  {
   "cell_type": "markdown",
   "id": "a93019fe",
   "metadata": {},
   "source": [
    "### 4)"
   ]
  },
  {
   "cell_type": "code",
   "execution_count": 27,
   "id": "3377632b",
   "metadata": {
    "scrolled": true
   },
   "outputs": [
    {
     "data": {
      "image/png": "[encoded data removed]",
      "text/plain": [
       "<Figure size 432x288 with 1 Axes>"
      ]
     },
     "metadata": {
      "needs_background": "light"
     },
     "output_type": "display_data"
    }
   ],
   "source": [
    "bar_loyalty = ords_prods_custs_merge['loyalty_flag'].value_counts().sort_index().plot.bar()"
   ]
  },
  {
   "cell_type": "code",
   "execution_count": 28,
   "id": "fafc5ccc",
   "metadata": {},
   "outputs": [],
   "source": [
    "# Export bar chart\n",
    "bar_loyalty.figure.savefig(os.path.join(path, '04 Analysis','Visualizations', 'bar_loyalty.png'))"
   ]
  },
  {
   "cell_type": "markdown",
   "id": "4bbe4bc6",
   "metadata": {},
   "source": [
    "### 5)"
   ]
  },
  {
   "cell_type": "code",
   "execution_count": 12,
   "id": "9d90b7b3",
   "metadata": {},
   "outputs": [],
   "source": [
    "# Define a dataframe with prices and order_hour_of_day from the big sample\n",
    "df_3 = big[['order_hour_of_day','prices']]"
   ]
  },
  {
   "cell_type": "code",
   "execution_count": 13,
   "id": "4751b00a",
   "metadata": {},
   "outputs": [
    {
     "data": {
      "image/png": "[encoded data removed]",
      "text/plain": [
       "<Figure size 432x288 with 1 Axes>"
      ]
     },
     "metadata": {
      "needs_background": "light"
     },
     "output_type": "display_data"
    }
   ],
   "source": [
    "# Create line chart of df_3\n",
    "line_2 = sns.lineplot(data = df_3, x ='order_hour_of_day',y = 'prices')"
   ]
  },
  {
   "cell_type": "code",
   "execution_count": 18,
   "id": "9b2217f7",
   "metadata": {},
   "outputs": [],
   "source": [
    "line_2.figure.savefig(os.path.join(path, '04 Analysis','Visualizations', 'line_order_hod_prices.png'))"
   ]
  },
  {
   "cell_type": "markdown",
   "id": "476148eb",
   "metadata": {},
   "source": [
    "### 6)"
   ]
  },
  {
   "cell_type": "code",
   "execution_count": 14,
   "id": "5943b59f",
   "metadata": {},
   "outputs": [],
   "source": [
    "# Create dataframe with sample using the age and number_of_dependants columns\n",
    "df_4 = big[['age','number_of_dependants']]"
   ]
  },
  {
   "cell_type": "code",
   "execution_count": 15,
   "id": "e140f6d6",
   "metadata": {},
   "outputs": [
    {
     "data": {
      "image/png": "[encoded data removed]",
      "text/plain": [
       "<Figure size 432x288 with 1 Axes>"
      ]
     },
     "metadata": {
      "needs_background": "light"
     },
     "output_type": "display_data"
    }
   ],
   "source": [
    "# Create line chart of df_4\n",
    "line_3 = sns.lineplot(data = df_4, x ='age',y = 'number_of_dependants')"
   ]
  },
  {
   "cell_type": "markdown",
   "id": "8cb68dcd",
   "metadata": {},
   "source": [
    "Seeing that the line is not in a straight line and is very sporadic, this shows that there is no relationship between age and number of dependents"
   ]
  },
  {
   "cell_type": "code",
   "execution_count": 19,
   "id": "4c43b89c",
   "metadata": {},
   "outputs": [],
   "source": [
    "# Export the line chart\n",
    "line_3.figure.savefig(os.path.join(path, '04 Analysis','Visualizations', 'lineage_n_dependents.png'))"
   ]
  },
  {
   "cell_type": "markdown",
   "id": "240c4c1e",
   "metadata": {},
   "source": [
    "### 7)"
   ]
  },
  {
   "cell_type": "code",
   "execution_count": 31,
   "id": "e1df932f",
   "metadata": {},
   "outputs": [
    {
     "data": {
      "image/png": "[encoded data removed]",
      "text/plain": [
       "<Figure size 432x288 with 1 Axes>"
      ]
     },
     "metadata": {
      "needs_background": "light"
     },
     "output_type": "display_data"
    }
   ],
   "source": [
    "# Create scatterplot of age and incomea\n",
    "scatterplot = sns.scatterplot(x = 'income', y = 'age',data = ords_prods_custs_merge)"
   ]
  },
  {
   "cell_type": "markdown",
   "id": "ff987149",
   "metadata": {},
   "source": [
    "Since this is very hard to interpret, I am going to use a sample instead"
   ]
  },
  {
   "cell_type": "code",
   "execution_count": 32,
   "id": "80ecd95a",
   "metadata": {},
   "outputs": [],
   "source": [
    "df_4 = big[['age','income']]"
   ]
  },
  {
   "cell_type": "code",
   "execution_count": 35,
   "id": "dfbc817d",
   "metadata": {},
   "outputs": [
    {
     "data": {
      "image/png": "[encoded data removed]",
      "text/plain": [
       "<Figure size 432x288 with 1 Axes>"
      ]
     },
     "metadata": {
      "needs_background": "light"
     },
     "output_type": "display_data"
    }
   ],
   "source": [
    "#Create a scatterplot of our sample\n",
    "scat_2 = sns.scatterplot(x = 'age', y = 'income',data = df_4)"
   ]
  },
  {
   "cell_type": "markdown",
   "id": "e4012311",
   "metadata": {},
   "source": [
    "Here the scatterplot shows the relationship between age and income. You will notice that in each bracket there are ones you earn less that 200,000 a year But you will notice, that most age groups don't make over 400,000 is in the older age brackets."
   ]
  },
  {
   "cell_type": "code",
   "execution_count": 36,
   "id": "f1cbb05a",
   "metadata": {},
   "outputs": [],
   "source": [
    "scat_2.figure.savefig(os.path.join(path, '04 Analysis','Visualizations', 'cat_plot_age_income.png'))"
   ]
  },
  {
   "cell_type": "code",
   "execution_count": null,
   "id": "7a303c23",
   "metadata": {},
   "outputs": [],
   "source": []
  }
 ],
 "metadata": {
  "kernelspec": {
   "display_name": "Python 3",
   "language": "python",
   "name": "python3"
  },
  "language_info": {
   "codemirror_mode": {
    "name": "ipython",
    "version": 3
   },
   "file_extension": ".py",
   "mimetype": "text/x-python",
   "name": "python",
   "nbconvert_exporter": "python",
   "pygments_lexer": "ipython3",
   "version": "3.8.8"
  }
 },
 "nbformat": 4,
 "nbformat_minor": 5
}
